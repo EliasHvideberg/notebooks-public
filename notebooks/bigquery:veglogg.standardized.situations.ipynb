{
 "cells": [
  {
   "cell_type": "code",
   "execution_count": null,
   "metadata": {
    "tags": [
     "parameters"
    ]
   },
   "outputs": [],
   "source": [
    "project = 'saga-veglogg-prod-wznf'\n",
    "use_colab_auth = True\n",
    "\n",
    "# Legg inn ditt eget prosjekt her, f.eks. 'saga-olanor-playground-ab12'\n",
    "bq_job_project = ''"
   ]
  },
  {
   "cell_type": "code",
   "execution_count": null,
   "metadata": {},
   "outputs": [],
   "source": [
    "if (use_colab_auth):\n",
    "  from google.colab import auth\n",
    "  auth.authenticate_user()\n",
    "  print('Authenticated')"
   ]
  },
  {
   "cell_type": "code",
   "execution_count": null,
   "metadata": {},
   "outputs": [],
   "source": [
    "import warnings\n",
    "from google.cloud import bigquery\n",
    "\n",
    "warnings.filterwarnings('ignore')\n",
    "client = bigquery.Client(project=bq_job_project)"
   ]
  },
  {
   "cell_type": "markdown",
   "metadata": {},
   "source": [
    "Denne spørringen viser antall hendelser fra vegloggen i desember 2021 per fylkesnummer."
   ]
  },
  {
   "cell_type": "code",
   "execution_count": null,
   "metadata": {},
   "outputs": [],
   "source": [
    "query = f\"\"\"\n",
    "SELECT\n",
    "    COALESCE(countyNumber, 'Ukjent') fylkesNr,\n",
    "    COUNT(*) antallHendelser\n",
    "FROM `{project}.standardized.situations`\n",
    "WHERE DATE(creationTime, \"Europe/Oslo\") BETWEEN \"2021-12-01\" AND \"2021-12-31\"\n",
    "GROUP BY countyNumber\n",
    "ORDER BY antallHendelser DESC\n",
    "\"\"\"\n",
    "\n",
    "print(query)\n",
    "\n",
    "client.query(query).to_dataframe()"
   ]
  },
  {
   "cell_type": "markdown",
   "metadata": {},
   "source": [
    "Denne spørringen viser antall hendelser fra vegloggen i desember 2021 per vegnummer, for hendelser innen 10 km av Trondheim sentrum."
   ]
  },
  {
   "cell_type": "code",
   "execution_count": null,
   "metadata": {},
   "outputs": [],
   "source": [
    "query = f\"\"\"\n",
    "SELECT\n",
    "    roadNumber vegNr,\n",
    "    COUNT(*) antallHendelser,\n",
    "FROM `{project}.standardized.situations`\n",
    "WHERE DATE(creationTime, \"Europe/Oslo\") BETWEEN \"2021-12-01\" AND \"2021-12-31\"\n",
    "    AND roadNumber IS NOT NULL\n",
    "    AND st_distance(geography, st_geogfromtext('POINT (10.3939341 63.4301525)')) < 10000\n",
    "GROUP BY vegNr\n",
    "ORDER BY antallHendelser DESC\n",
    "\"\"\"\n",
    "\n",
    "print(query)\n",
    "\n",
    "client.query(query).to_dataframe()"
   ]
  }
 ],
 "metadata": {
  "interpreter": {
   "hash": "9a1ab7dd7a22ee2fdc59d95014d50eeb0611fa3ec969f116cc29f98d3982c9bf"
  },
  "kernelspec": {
   "display_name": "Python 3.10.2 64-bit ('3.10.2': pyenv)",
   "language": "python",
   "name": "python3"
  },
  "language_info": {
   "codemirror_mode": {
    "name": "ipython",
    "version": 3
   },
   "file_extension": ".py",
   "mimetype": "text/x-python",
   "name": "python",
   "nbconvert_exporter": "python",
   "pygments_lexer": "ipython3",
   "version": "3.10.2"
  }
 },
 "nbformat": 4,
 "nbformat_minor": 2
}
