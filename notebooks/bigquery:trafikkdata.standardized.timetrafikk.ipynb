{
 "cells": [
  {
   "cell_type": "code",
   "execution_count": null,
   "metadata": {
    "tags": [
     "parameters"
    ]
   },
   "outputs": [],
   "source": [
    "project = 'saga-trafikkdata-prod-pz8l'\n",
    "use_colab_auth = True\n",
    "\n",
    "# Legg inn ditt eget prosjekt her, f.eks. 'saga-olanor-playground-ab12'\n",
    "bq_job_project = ''"
   ]
  },
  {
   "cell_type": "code",
   "execution_count": null,
   "metadata": {},
   "outputs": [],
   "source": [
    "if (use_colab_auth):\n",
    "  from google.colab import auth\n",
    "  auth.authenticate_user()\n",
    "  print('Authenticated')"
   ]
  },
  {
   "cell_type": "code",
   "execution_count": null,
   "metadata": {},
   "outputs": [],
   "source": [
    "import warnings\n",
    "from google.cloud import bigquery\n",
    "\n",
    "warnings.filterwarnings('ignore')\n",
    "client = bigquery.Client(project=bq_job_project)"
   ]
  },
  {
   "cell_type": "markdown",
   "metadata": {},
   "source": [
    "Denne spørringen henter enkelt og greit ut timetrafikk for trafikkregistreringspunktet \"HØVIK\" på datoen 2. februar 2022, totalt for begge kjøreretninger."
   ]
  },
  {
   "cell_type": "code",
   "execution_count": null,
   "metadata": {},
   "outputs": [],
   "source": [
    "query = f\"\"\"\n",
    "SELECT\n",
    "    name AS tellepunkt,\n",
    "    EXTRACT(DATE FROM `from` AT TIME ZONE \"Europe/Oslo\") AS dato,\n",
    "    EXTRACT(HOUR FROM `from` AT TIME ZONE \"Europe/Oslo\") AS time,\n",
    "    total.volumeNumbers.volume as timetrafikk\n",
    "FROM `{project}.standardized.timetrafikk`\n",
    "WHERE name = \"HØVIK\"\n",
    "AND DATE(`from`, \"Europe/Oslo\") = \"2022-02-02\"\n",
    "ORDER BY dato, time\n",
    "\"\"\" \n",
    "\n",
    "print(query)\n",
    "\n",
    "client.query(query).to_dataframe()"
   ]
  },
  {
   "cell_type": "markdown",
   "metadata": {},
   "source": [
    "Følgende spørring henter data for tellepunktet på E18 ved Høvik og beregner gjennomsnittlig døgntrafikk i januar i år per ukedag, kjøreretning og lengdeklasse."
   ]
  },
  {
   "cell_type": "code",
   "execution_count": null,
   "metadata": {},
   "outputs": [],
   "source": [
    "query = f\"\"\"\n",
    "SELECT\n",
    "    name AS tellepunkt,\n",
    "    flat_directions.heading AS retning,\n",
    "    EXTRACT(DAYOFWEEK FROM `from` AT TIME ZONE \"Europe/Oslo\") AS ukedag,\n",
    "    CAST(AVG(IF(flattened.lengthRange.upperBound = 5.6, flattened.total.volumeNumbers.volume, NULL)) * 24 AS INT64) AS korte_kjoretoy,\n",
    "    CAST(AVG(IF(flattened.lengthRange.upperBound IS NULL AND flattened.lengthRange.lowerBound = 5.6, flattened.total.volumeNumbers.volume, NULL)) * 24 AS INT64) AS lange_kjoretoy\n",
    "FROM `{project}.standardized.timetrafikk`, UNNEST(byDirection) flat_directions, UNNEST(flat_directions.byLengthRange) flattened\n",
    "WHERE name = \"HØVIK\"\n",
    "AND DATE(`from`, \"Europe/Oslo\") BETWEEN \"2022-01-01\" AND \"2022-01-31\"\n",
    "AND (flattened.lengthRange.upperBound = 5.6 OR (flattened.lengthRange.lowerBound = 5.6 AND flattened.lengthRange.upperBound IS NULL))\n",
    "GROUP BY 1,2,3\n",
    "ORDER BY 1,2,3\n",
    "\"\"\" \n",
    "\n",
    "print(query)\n",
    "\n",
    "client.query(query).to_dataframe()"
   ]
  },
  {
   "cell_type": "markdown",
   "metadata": {},
   "source": [
    "Denne spørringen viser en enkel `UNNEST` for å finne totalvolum og volum per __felt__."
   ]
  },
  {
   "cell_type": "code",
   "execution_count": null,
   "metadata": {},
   "outputs": [],
   "source": [
    "query = f\"\"\"\n",
    "SELECT \n",
    "  trpId,\n",
    "  DATETIME(`from`, \"Europe/Oslo\") AS dato,\n",
    "  timetrafikk.total.volumeNumbers.volume as totalVolum,\n",
    "  lanes.lane.laneNumber as felt,\n",
    "  lanes.total.volumeNumbers.volume as feltVolum\n",
    "FROM\n",
    "  `{project}.standardized.timetrafikk` timetrafikk,\n",
    "  UNNEST(byLane) lanes\n",
    "WHERE\n",
    "  DATE(`from`, \"Europe/Oslo\") = \"2021-09-15\"\n",
    "  AND trpId = \"16219V72812\"\n",
    "ORDER BY `from`\n",
    "LIMIT 20\n",
    "\"\"\" \n",
    "\n",
    "print(query)\n",
    "\n",
    "client.query(query).to_dataframe()"
   ]
  },
  {
   "cell_type": "markdown",
   "metadata": {},
   "source": [
    "Denne spørringen viser en enkel `UNNEST` for å finne totalvolum og volum per __lengdeklasse__."
   ]
  },
  {
   "cell_type": "code",
   "execution_count": null,
   "metadata": {},
   "outputs": [],
   "source": [
    "query = f\"\"\"\n",
    "SELECT \n",
    "  trpId,\n",
    "  DATETIME(`from`, \"Europe/Oslo\") AS dato,\n",
    "  timetrafikk.total.volumeNumbers.volume as totalVolum,\n",
    "  IFNULL(lengthRanges.lengthRange.lowerBound, 0) meterLengdeFra, \n",
    "  IFNULL(CAST(lengthRanges.lengthRange.upperBound AS STRING), \"ubegrenset\") meterLengdeTil,\n",
    "  lengthRanges.total.volumeNumbers.volume as lengdeklasseVolum\n",
    "FROM\n",
    "  `{project}.standardized.timetrafikk` timetrafikk,\n",
    "  UNNEST(byLengthRange) lengthRanges\n",
    "WHERE\n",
    "  DATE(`from`, \"Europe/Oslo\") = \"2021-09-15\"\n",
    "  AND trpId = \"16219V72812\"\n",
    "ORDER BY `from`\n",
    "LIMIT 20\n",
    "\"\"\" \n",
    "\n",
    "print(query)\n",
    "\n",
    "client.query(query).to_dataframe()"
   ]
  }
 ],
 "metadata": {
  "interpreter": {
   "hash": "9a1ab7dd7a22ee2fdc59d95014d50eeb0611fa3ec969f116cc29f98d3982c9bf"
  },
  "kernelspec": {
   "display_name": "Python 3.10.2 64-bit ('3.10.2': pyenv)",
   "language": "python",
   "name": "python3"
  },
  "language_info": {
   "codemirror_mode": {
    "name": "ipython",
    "version": 3
   },
   "file_extension": ".py",
   "mimetype": "text/x-python",
   "name": "python",
   "nbconvert_exporter": "python",
   "pygments_lexer": "ipython3",
   "version": "3.10.2"
  }
 },
 "nbformat": 4,
 "nbformat_minor": 2
}
