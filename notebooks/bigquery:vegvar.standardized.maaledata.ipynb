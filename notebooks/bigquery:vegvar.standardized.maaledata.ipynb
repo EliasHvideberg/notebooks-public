{
 "cells": [
  {
   "cell_type": "code",
   "execution_count": null,
   "metadata": {
    "tags": [
     "parameters"
    ]
   },
   "outputs": [],
   "source": [
    "project = 'saga-vegvar-prod-znny'\n",
    "use_colab_auth = True\n",
    "\n",
    "# Legg inn ditt eget prosjekt her, f.eks. 'saga-olanor-playground-ab12'\n",
    "bq_job_project = ''"
   ]
  },
  {
   "cell_type": "code",
   "execution_count": null,
   "metadata": {},
   "outputs": [],
   "source": [
    "if (use_colab_auth):\n",
    "  from google.colab import auth\n",
    "  auth.authenticate_user()\n",
    "  print('Authenticated')"
   ]
  },
  {
   "cell_type": "code",
   "execution_count": null,
   "metadata": {},
   "outputs": [],
   "source": [
    "import warnings\n",
    "from google.cloud import bigquery\n",
    "\n",
    "warnings.filterwarnings('ignore')\n",
    "client = bigquery.Client(project=bq_job_project)"
   ]
  },
  {
   "cell_type": "markdown",
   "metadata": {},
   "source": [
    "Denne spørringen regner ut gjennomsnittlig, minimum- og maksimumtemperatur per målestasjon og dato, fra 1. til 7. januar 2022.\n",
    "\n",
    "Merk at den bruker både `maaledata` og `maalestasjoner`."
   ]
  },
  {
   "cell_type": "code",
   "execution_count": null,
   "metadata": {},
   "outputs": [],
   "source": [
    "query = f\"\"\"\n",
    "SELECT\n",
    "    navn,\n",
    "    DATE(md.maaletidspunkt, \"Europe/Oslo\") dato,\n",
    "    ROUND(AVG(lufttemperaturCelsius), 1) gjennomsnittLufttemperaturCelsius,\n",
    "    MIN(lufttemperaturCelsius) minimumLufttemperaturCelsius,\n",
    "    MAX(lufttemperaturCelsius) maksimumLufttemperaturCelsius\n",
    "\n",
    "FROM `{project}.standardized.maaledata` md\n",
    "JOIN `{project}.standardized.maalestasjoner` ms\n",
    "    ON ms.id = md.maalestasjonId\n",
    "    AND ms.versjon = md.maalestasjonVersjon\n",
    "WHERE DATE(md.maaletidspunkt, \"Europe/Oslo\") BETWEEN \"2022-01-01\" AND \"2022-01-07\"\n",
    "GROUP BY navn, dato\n",
    "ORDER BY navn, dato\n",
    "LIMIT 30\n",
    "\"\"\"\n",
    "\n",
    "print(query)\n",
    "\n",
    "client.query(query).to_dataframe()"
   ]
  },
  {
   "cell_type": "markdown",
   "metadata": {},
   "source": [
    "Denne spørringen viser navn og koordinater for de 10 varmeste målestasjonene 1. januar 2022.\n",
    "\n",
    "Merk at den bruker både `maaledata` og `maalestasjoner`."
   ]
  },
  {
   "cell_type": "code",
   "execution_count": null,
   "metadata": {},
   "outputs": [],
   "source": [
    "query = f\"\"\"\n",
    "SELECT\n",
    "    ANY_VALUE(navn) navn,\n",
    "    ANY_VALUE(lokasjon) lokasjon,\n",
    "    MAX(lufttemperaturCelsius) maksTemperatur,\n",
    "    DATE(maaletidspunkt, \"Europe/Oslo\") dato\n",
    "FROM `{project}.standardized.maaledata` md\n",
    "JOIN `{project}.standardized.maalestasjoner` ms\n",
    "    ON md.maalestasjonId = ms.id AND md.maalestasjonVersjon = ms.versjon\n",
    "\n",
    "WHERE DATE(maaletidspunkt, \"Europe/Oslo\") = \"2022-01-01\"\n",
    "GROUP BY ms.id, ms.versjon, dato\n",
    "ORDER BY maksTemperatur DESC\n",
    "LIMIT 10\n",
    "\"\"\"\n",
    "\n",
    "print(query)\n",
    "\n",
    "client.query(query).to_dataframe()"
   ]
  }
 ],
 "metadata": {
  "interpreter": {
   "hash": "9a1ab7dd7a22ee2fdc59d95014d50eeb0611fa3ec969f116cc29f98d3982c9bf"
  },
  "kernelspec": {
   "display_name": "Python 3.10.2 64-bit ('3.10.2': pyenv)",
   "language": "python",
   "name": "python3"
  },
  "language_info": {
   "codemirror_mode": {
    "name": "ipython",
    "version": 3
   },
   "file_extension": ".py",
   "mimetype": "text/x-python",
   "name": "python",
   "nbconvert_exporter": "python",
   "pygments_lexer": "ipython3",
   "version": "3.10.2"
  }
 },
 "nbformat": 4,
 "nbformat_minor": 2
}
