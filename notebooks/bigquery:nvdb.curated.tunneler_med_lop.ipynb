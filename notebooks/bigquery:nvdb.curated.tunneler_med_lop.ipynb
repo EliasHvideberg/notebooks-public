{
 "cells": [
  {
   "cell_type": "code",
   "execution_count": null,
   "metadata": {
    "tags": [
     "parameters"
    ]
   },
   "outputs": [],
   "source": [
    "project = 'saga-nvdb-prod-vlmh'\n",
    "use_colab_auth = True\n",
    "\n",
    "# Legg inn ditt eget prosjekt her, f.eks. 'saga-olanor-playground-ab12'\n",
    "bq_job_project = ''"
   ]
  },
  {
   "cell_type": "code",
   "execution_count": null,
   "metadata": {
   },
   "outputs": [],
   "source": [
    "if (use_colab_auth):\n",
    "  from google.colab import auth\n",
    "  auth.authenticate_user()\n",
    "  print('Authenticated')"
   ]
  },
  {
   "cell_type": "code",
   "execution_count": null,
   "metadata": {
   },
   "outputs": [],
   "source": [
    "import warnings\n",
    "from google.cloud import bigquery\n",
    "\n",
    "warnings.filterwarnings('ignore')\n",
    "client = bigquery.Client(project=bq_job_project)"
   ]
  },
  {
   "cell_type": "markdown",
   "metadata": {
   },
   "source": [
    "Denne spørringen henter tunnelnavn, åpningsår og antall tunnelløp per tunnel. Den viser også vegsystemreferansens kortform for alle tunnelløpene hver tunnel har."
   ]
  },
  {
   "cell_type": "code",
   "execution_count": null,
   "metadata": {
   },
   "outputs": [],
   "source": [
    "query = f\"\"\"\n",
    "SELECT\n",
    "  tunnel.egenskaper.navn as tunnelnavn,\n",
    "  tunnel.egenskaper.aapningsaar,\n",
    "  COUNT(tunnellop) antall_lop,\n",
    "  ARRAY_AGG(tunnellop_vegsystemreferanser.kortform) tunnellop_vegsystemreferanse_kortform,\n",
    "FROM\n",
    "  `{project}.curated.tunneler_med_lop` tunnel,\n",
    "  UNNEST(tunnellop) tunnellop,\n",
    "  UNNEST(tunnellop.lokasjon.vegsystemreferanser) tunnellop_vegsystemreferanser\n",
    "WHERE\n",
    "  tunnel.metadata.sluttdato IS NULL\n",
    "GROUP BY tunnel.egenskaper.navn, tunnel.egenskaper.aapningsaar\n",
    "ORDER BY aapningsaar DESC, antall_lop DESC\n",
    "\"\"\"\n",
    "\n",
    "print(query)\n",
    "\n",
    "client.query(query).to_dataframe()"
   ]
  }
 ],
 "metadata": {
  "colab": {
   "name": "bigquery:nvdb.curated.tunneler_med_lop.ipynb",
   "provenance": []
  },
  "interpreter": {
   "hash": "9a1ab7dd7a22ee2fdc59d95014d50eeb0611fa3ec969f116cc29f98d3982c9bf"
  },
  "kernelspec": {
   "display_name": "Python 3.10.2 64-bit ('3.10.2')",
   "language": "python",
   "name": "python3"
  },
  "language_info": {
   "codemirror_mode": {
    "name": "ipython",
    "version": 3
   },
   "file_extension": ".py",
   "mimetype": "text/x-python",
   "name": "python",
   "nbconvert_exporter": "python",
   "pygments_lexer": "ipython3",
   "version": "3.10.2"
  }
 },
 "nbformat": 4,
 "nbformat_minor": 0
}
