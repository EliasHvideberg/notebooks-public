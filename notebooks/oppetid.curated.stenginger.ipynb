{
 "cells": [
  {
   "cell_type": "code",
   "execution_count": null,
   "metadata": {
    "tags": [
     "parameters"
    ]
   },
   "outputs": [],
   "source": [
    "project = 'saga-oppetid-prod-o6pj'\n",
    "use_colab_auth = True\n",
    "\n",
    "# Legg inn ditt eget prosjekt her, f.eks. 'saga-olanor-playground-ab12'\n",
    "bq_job_project = ''"
   ]
  },
  {
   "cell_type": "code",
   "execution_count": null,
   "metadata": {},
   "outputs": [],
   "source": [
    "if (use_colab_auth):\n",
    "  from google.colab import auth\n",
    "  auth.authenticate_user()\n",
    "  print('Authenticated')"
   ]
  },
  {
   "cell_type": "code",
   "execution_count": null,
   "metadata": {},
   "outputs": [],
   "source": [
    "import warnings\n",
    "from google.cloud import bigquery\n",
    "\n",
    "warnings.filterwarnings('ignore')\n",
    "client = bigquery.Client(project=bq_job_project)"
   ]
  },
  {
   "cell_type": "markdown",
   "metadata": {},
   "source": [
    "Denne spørringen viser første 10 stenginger på E6 i januar 2022 og deres start- og sluttider i norsk tid.\n",
    "\n",
    "\n",
    "Merk at denne joiner både `stenginger` og `stenginginstanser`."
   ]
  },
  {
   "cell_type": "code",
   "execution_count": null,
   "metadata": {},
   "outputs": [],
   "source": [
    "query = f\"\"\"\n",
    "SELECT s.stengingId, description, locationDescriptor, DateTime(si.startTime, 'Europe/Oslo') startTime, DateTime(si.endTime, 'Europe/Oslo') endTime,\n",
    "FROM `{project}.curated.stenginger` s\n",
    "JOIN `{project}.curated.stenginginstanser` si ON si.stengingId = s.stengingId\n",
    "WHERE DATE(si.startTime, 'Europe/Oslo') BETWEEN '2022-01-01' AND '2022-01-31'\n",
    "AND s.road = 'E6'\n",
    "ORDER BY startTime\n",
    "LIMIT 10\n",
    "\"\"\"\n",
    "\n",
    "print(query)\n",
    "\n",
    "client.query(query).to_dataframe()"
   ]
  },
  {
   "cell_type": "markdown",
   "metadata": {},
   "source": [
    "Denne spørringen viser de første 10 stenginger innenfor 10 km av Trondheim sentrum i januar 2022.\n",
    "\n",
    "\n",
    "Merk at denne joiner både `stenginger` og `stenginginstanser`."
   ]
  },
  {
   "cell_type": "code",
   "execution_count": null,
   "metadata": {},
   "outputs": [],
   "source": [
    "query = f\"\"\"\n",
    "SELECT s.stengingId, description, locationDescriptor, DateTime(si.startTime, 'Europe/Oslo') startTime, DateTime(si.endTime, 'Europe/Oslo') endTime,\n",
    "FROM `{project}.curated.stenginger` s\n",
    "JOIN `{project}.curated.stenginginstanser` si ON si.stengingId = s.stengingId\n",
    "WHERE DATE(si.startTime, 'Europe/Oslo') BETWEEN '2022-01-01' AND '2022-01-31'\n",
    "AND st_distance(s.geography, st_geogfromtext('POINT (10.3939341 63.4301525)')) < 10000\n",
    "ORDER BY startTime\n",
    "LIMIT 10\n",
    "\"\"\"\n",
    "\n",
    "print(query)\n",
    "\n",
    "client.query(query).to_dataframe()"
   ]
  }
 ],
 "metadata": {
  "interpreter": {
   "hash": "9a1ab7dd7a22ee2fdc59d95014d50eeb0611fa3ec969f116cc29f98d3982c9bf"
  },
  "kernelspec": {
   "display_name": "Python 3.10.2 64-bit ('3.10.2': pyenv)",
   "language": "python",
   "name": "python3"
  },
  "language_info": {
   "codemirror_mode": {
    "name": "ipython",
    "version": 3
   },
   "file_extension": ".py",
   "mimetype": "text/x-python",
   "name": "python",
   "nbconvert_exporter": "python",
   "pygments_lexer": "ipython3",
   "version": "3.10.2"
  }
 },
 "nbformat": 4,
 "nbformat_minor": 2
}
