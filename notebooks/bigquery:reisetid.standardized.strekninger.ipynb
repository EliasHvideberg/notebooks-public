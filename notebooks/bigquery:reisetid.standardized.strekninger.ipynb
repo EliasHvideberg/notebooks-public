{
 "cells": [
  {
   "cell_type": "code",
   "execution_count": null,
   "metadata": {
    "tags": [
     "parameters"
    ]
   },
   "outputs": [],
   "source": [
    "project = 'saga-reisetid-prod-4drk'\n",
    "use_colab_auth = True\n",
    "\n",
    "# Legg inn ditt eget prosjekt her, f.eks. 'saga-olanor-playground-ab12'\n",
    "bq_job_project = ''"
   ]
  },
  {
   "cell_type": "code",
   "execution_count": null,
   "metadata": {},
   "outputs": [],
   "source": [
    "if (use_colab_auth):\n",
    "  from google.colab import auth\n",
    "  auth.authenticate_user()\n",
    "  print('Authenticated')"
   ]
  },
  {
   "cell_type": "code",
   "execution_count": null,
   "metadata": {},
   "outputs": [],
   "source": [
    "import warnings\n",
    "from google.cloud import bigquery\n",
    "\n",
    "warnings.filterwarnings('ignore')\n",
    "client = bigquery.Client(project=bq_job_project)"
   ]
  },
  {
   "cell_type": "markdown",
   "metadata": {},
   "source": [
    "Denne spørringen viser gjennomsnittlig estimert hastighet og reisetid for strekningen 'Moholt - Haakon VIIs gate' per dag i juni 2021. Merk at både `reisetider` og `strekninger`-datasettene benyttes her."
   ]
  },
  {
   "cell_type": "code",
   "execution_count": null,
   "metadata": {},
   "outputs": [],
   "source": [
    "query = f\"\"\"\n",
    "SELECT\n",
    "    DATE(r.publiseringstidspunkt, 'Europe/Oslo') Dato,\n",
    "    AVG(r.reisetidHastighetKmPerTime) GjennomsnittHastighetKmT,\n",
    "    AVG(r.reisetidVarighetSekunder) / 60 GjennomsnittReisetidMinutt\n",
    "FROM `{project}.standardized.reisetider` r\n",
    "JOIN `{project}.standardized.strekninger` s\n",
    "    ON s.id = r.strekningId\n",
    "WHERE DATE(r.publiseringstidspunkt, 'Europe/Oslo') BETWEEN '2021-06-01' AND '2021-06-30'\n",
    "    AND s.navn = 'Moholt - Haakon VIIs gate'\n",
    "    AND r.reisetidType = 'ESTIMERT'\n",
    "GROUP BY Dato\n",
    "ORDER BY Dato\n",
    "\"\"\"\n",
    "\n",
    "print(query)\n",
    "\n",
    "client.query(query).to_dataframe()"
   ]
  },
  {
   "cell_type": "markdown",
   "metadata": {},
   "source": [
    "Denne spørringer viser de 10 strekningene med høyest estimert gjennomsnittshastighet i 2021."
   ]
  },
  {
   "cell_type": "code",
   "execution_count": null,
   "metadata": {},
   "outputs": [],
   "source": [
    "query = f\"\"\"\n",
    "SELECT\n",
    "    s.navn Strekning,\n",
    "    AVG(r.reisetidHastighetKmPerTime) GjennomsnittHastighetKmT\n",
    "FROM `{project}.standardized.reisetider` r\n",
    "JOIN `{project}.standardized.strekninger` s\n",
    "    ON s.id = r.strekningId\n",
    "WHERE DATE(r.publiseringstidspunkt, 'Europe/Oslo') BETWEEN '2021-01-01' AND '2021-12-31'\n",
    "    AND r.reisetidType = 'ESTIMERT'\n",
    "GROUP BY s.navn\n",
    "ORDER BY GjennomsnittHastighetKmT DESC\n",
    "LIMIT 10\n",
    "\"\"\"\n",
    "\n",
    "print(query)\n",
    "\n",
    "client.query(query).to_dataframe()"
   ]
  }
 ],
 "metadata": {
  "interpreter": {
   "hash": "9a1ab7dd7a22ee2fdc59d95014d50eeb0611fa3ec969f116cc29f98d3982c9bf"
  },
  "kernelspec": {
   "display_name": "Python 3.10.2 64-bit ('3.10.2': pyenv)",
   "language": "python",
   "name": "python3"
  },
  "language_info": {
   "codemirror_mode": {
    "name": "ipython",
    "version": 3
   },
   "file_extension": ".py",
   "mimetype": "text/x-python",
   "name": "python",
   "nbconvert_exporter": "python",
   "pygments_lexer": "ipython3",
   "version": "3.10.2"
  }
 },
 "nbformat": 4,
 "nbformat_minor": 2
}
