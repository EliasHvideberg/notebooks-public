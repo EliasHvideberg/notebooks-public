{
 "cells": [
  {
   "cell_type": "code",
   "execution_count": null,
   "metadata": {
    "pycharm": {
     "name": "#%%\n"
    },
    "tags": [
     "parameters"
    ]
   },
   "outputs": [],
   "source": [
    "project = 'saga-nvdb-prod-vlmh'\n",
    "use_colab_auth = True\n",
    "\n",
    "# Legg inn ditt eget prosjekt her, f.eks. 'saga-olanor-playground-ab12'\n",
    "bq_job_project = ''"
   ]
  },
  {
   "cell_type": "code",
   "execution_count": null,
   "metadata": {
    "pycharm": {
     "name": "#%%\n"
    }
   },
   "outputs": [],
   "source": [
    "if (use_colab_auth):\n",
    "  from google.colab import auth\n",
    "  auth.authenticate_user()\n",
    "  print('Authenticated')"
   ]
  },
  {
   "cell_type": "code",
   "execution_count": null,
   "metadata": {
    "pycharm": {
     "name": "#%%\n"
    }
   },
   "outputs": [],
   "source": [
    "import warnings\n",
    "from google.cloud import bigquery\n",
    "\n",
    "warnings.filterwarnings('ignore')\n",
    "client = bigquery.Client(project=bq_job_project)"
   ]
  },
  {
   "cell_type": "markdown",
   "metadata": {
    "pycharm": {
     "name": "#%% md\n"
    }
   },
   "source": [
    "Denne spørringen henter ut ID, navn, kortform på tilhørende vegsystem, åpningsår, oppgraderingsår og geometri for tunnelløp rehabilitert siden 2020, sortert på åpningsår."
   ]
  },
  {
   "cell_type": "code",
   "execution_count": null,
   "metadata": {
    "pycharm": {
     "name": "#%%\n"
    }
   },
   "outputs": [],
   "source": [
    "query = f\"\"\"\n",
    "SELECT\n",
    "  id,\n",
    "  egenskaper.navn,\n",
    "  ARRAY(SELECT kortform FROM UNNEST(lokasjon.vegsystemreferanser)) kortform,\n",
    "  egenskaper.aapningsaar,\n",
    "  egenskaper.oppgraderingsaar,\n",
    "  lokasjon.geometri\n",
    "FROM\n",
    "  `{project}.standardized.vegobjekter_tunnellop`\n",
    "WHERE\n",
    "  metadata.sluttdato IS NULL\n",
    "  AND egenskaper.oppgraderingsaar >= 2020\n",
    "ORDER BY aapningsaar\n",
    "\"\"\"\n",
    "\n",
    "print(query)\n",
    "\n",
    "client.query(query).to_dataframe()"
   ]
  },
  {
   "cell_type": "markdown",
   "metadata": {
    "pycharm": {
     "name": "#%% md\n"
    }
   },
   "source": [
    "Denne spørringen henter ID, kortform, underlagte tunnelløp, startdato, navn og lengde for aktive undersjøiske tunnelløp, sortert på navn."
   ]
  },
  {
   "cell_type": "code",
   "execution_count": null,
   "metadata": {
    "pycharm": {
     "name": "#%%\n"
    }
   },
   "outputs": [],
   "source": [
    "query = f\"\"\"\n",
    "SELECT\n",
    "  id,\n",
    "  (SELECT kortform FROM UNNEST(lokasjon.vegsystemreferanser)) kortform,\n",
    "  (SELECT vegobjekter FROM UNNEST(relasjoner.barn) WHERE type.id = 67) tunnellop,\n",
    "  metadata.startdato, \n",
    "  egenskaper.navn,\n",
    "  egenskaper.lengde_offisiell\n",
    "FROM\n",
    "  `{project}.standardized.vegobjekter_tunnel`\n",
    "WHERE\n",
    "  metadata.sluttdato IS NULL\n",
    "  AND egenskaper.undersjoisk = 'Ja'\n",
    "ORDER BY\n",
    "  navn\n",
    "\"\"\"\n",
    "\n",
    "print(query)\n",
    "\n",
    "client.query(query).to_dataframe()"
   ]
  }
 ],
 "metadata": {
  "colab": {
   "name": "bigquery:nvdb.standardized.vegobjekter_tunnellop.ipynb",
   "provenance": []
  },
  "interpreter": {
   "hash": "9a1ab7dd7a22ee2fdc59d95014d50eeb0611fa3ec969f116cc29f98d3982c9bf"
  },
  "kernelspec": {
   "display_name": "Python 3.10.2 64-bit ('3.10.2')",
   "language": "python",
   "name": "python3"
  },
  "language_info": {
   "codemirror_mode": {
    "name": "ipython",
    "version": 3
   },
   "file_extension": ".py",
   "mimetype": "text/x-python",
   "name": "python",
   "nbconvert_exporter": "python",
   "pygments_lexer": "ipython3",
   "version": "3.10.2"
  }
 },
 "nbformat": 4,
 "nbformat_minor": 0
}
