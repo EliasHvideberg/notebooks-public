{
 "cells": [
  {
   "cell_type": "code",
   "execution_count": null,
   "metadata": {
    "tags": [
     "parameters"
    ]
   },
   "outputs": [],
   "source": [
    "project = 'saga-nvdb-prod-vlmh'\n",
    "use_colab_auth = True\n",
    "\n",
    "# Legg inn ditt eget prosjekt her, f.eks. 'saga-olanor-playground-ab12'\n",
    "bq_job_project = ''"
   ]
  },
  {
   "cell_type": "code",
   "execution_count": null,
   "metadata": {},
   "outputs": [],
   "source": [
    "if (use_colab_auth):\n",
    "  from google.colab import auth\n",
    "  auth.authenticate_user()\n",
    "  print('Authenticated')"
   ]
  },
  {
   "cell_type": "code",
   "execution_count": null,
   "metadata": {},
   "outputs": [],
   "source": [
    "import warnings\n",
    "from google.cloud import bigquery\n",
    "\n",
    "warnings.filterwarnings('ignore')\n",
    "client = bigquery.Client(project=bq_job_project)"
   ]
  },
  {
   "cell_type": "markdown",
   "metadata": {},
   "source": [
    "Denne spørringen henter ut lengden på det nåværende vegnettet for riks- og europaveg i Norge."
   ]
  },
  {
   "cell_type": "code",
   "execution_count": null,
   "metadata": {},
   "outputs": [],
   "source": [
    "query = f\"\"\"\n",
    "SELECT \n",
    "  SUM(ST_LENGTH(geometri))/1000 vegnettKm\n",
    "FROM \n",
    "  `{project}.standardized.veglenker`\n",
    "WHERE\n",
    "  # Nåværende vegnett\n",
    "  (metadata.sluttdato IS NULL OR metadata.sluttdato >= CURRENT_DATE())\n",
    "\n",
    "  # Hovedtrase\n",
    "  AND type = \"HOVED\"\n",
    "\n",
    "  # Europaveg og Riksveg\n",
    "  AND vegsystemreferanse.vegsystem.vegkategori in (\"E\", \"R\")\n",
    "\n",
    "  # Eksisterende veg som er del av det operative vegnettet\n",
    "  AND vegsystemreferanse.vegsystem.fase in (\"V\")\n",
    "\n",
    "  # Behold bare ett løp for adskilte tunelløp\n",
    "  AND (vegsystemreferanse.strekning.adskilteLop IN (\"Med\", \"Nei\") OR vegsystemreferanse.strekning.adskilteLop IS NULL)\n",
    "\n",
    "  AND typeVeg IN (\n",
    "    \"Rundkjøring\",\n",
    "    \"Enkel bilveg\",\n",
    "    \"Kanalisert veg\",\n",
    "    \"Rampe\");\n",
    "\"\"\"\n",
    "\n",
    "print(query)\n",
    "\n",
    "client.query(query).to_dataframe()"
   ]
  },
  {
   "cell_type": "markdown",
   "metadata": {},
   "source": [
    "Denne spørringen henter ut det nåværende vegnettet for riks- og europaveg i Trøndelag fylke."
   ]
  },
  {
   "cell_type": "code",
   "execution_count": null,
   "metadata": {},
   "outputs": [],
   "source": [
    "query = f\"\"\"\n",
    "SELECT \n",
    "  vegsystemreferanse.kortform, geometri\n",
    "FROM \n",
    "  `{project}.standardized.veglenker`\n",
    "WHERE\n",
    "  # Trøndelag\n",
    "  fylke = 50\n",
    "\n",
    "  # Nåværende vegnett\n",
    "  AND (metadata.sluttdato IS NULL OR metadata.sluttdato >= CURRENT_DATE())\n",
    "\n",
    "  # Hovedtrase\n",
    "  AND type = \"HOVED\"\n",
    "\n",
    "  # Europaveg og Riksveg\n",
    "  AND vegsystemreferanse.vegsystem.vegkategori in (\"E\", \"R\")\n",
    "\n",
    "  # Eksisterende veg som er del av det operative vegnettet\n",
    "  AND vegsystemreferanse.vegsystem.fase in (\"V\")\n",
    "\n",
    "  # Behold bare ett løp for adskilte tunelløp\n",
    "  AND (vegsystemreferanse.strekning.adskilteLop IN (\"Med\", \"Nei\") OR vegsystemreferanse.strekning.adskilteLop IS NULL)\n",
    "\n",
    "  AND typeVeg IN (\n",
    "    \"Rundkjøring\",\n",
    "    \"Enkel bilveg\",\n",
    "    \"Kanalisert veg\",\n",
    "    \"Rampe\");\n",
    "\"\"\"\n",
    "\n",
    "print(query)\n",
    "\n",
    "client.query(query).to_dataframe()"
   ]
  },
  {
   "cell_type": "markdown",
   "metadata": {},
   "source": [
    "Denne spørringen viser hvordan riks- og europavegnettet for et gitt tidspunkt kan hentes ut, med ellers samme filter som over."
   ]
  },
  {
   "cell_type": "code",
   "execution_count": null,
   "metadata": {},
   "outputs": [],
   "source": [
    "query = f\"\"\"\n",
    "SELECT \n",
    "  vegsystemreferanse.kortform,\n",
    "  geometri\n",
    "FROM \n",
    "  `{project}.standardized.veglenker`\n",
    "WHERE\n",
    "  # Trøndelag\n",
    "  fylke = 50\n",
    "\n",
    "  # Vegnett for et gitt tidspunkt\n",
    "  AND (\n",
    "      # Opprettet før det aktuelle tidspunktet \n",
    "      metadata.startdato < '2020-01-01'\n",
    "      AND\n",
    "      # Avsluttet etter tidspunktet eller er fortsatt aktiv\n",
    "      (metadata.sluttdato >= '2020-01-01' OR metadata.sluttdato IS NULL)\n",
    "  ) \n",
    "\n",
    "  # Hovedtrase\n",
    "  AND type = \"HOVED\"\n",
    "\n",
    "  # Europaveg og Riksveg\n",
    "  AND vegsystemreferanse.vegsystem.vegkategori in (\"E\", \"R\")\n",
    "\n",
    "  # Eksisterende veg som er del av det operative vegnettet\n",
    "  AND vegsystemreferanse.vegsystem.fase in (\"V\")\n",
    "\n",
    "  # Behold bare ett løp for adskilte tunelløp\n",
    "  AND (vegsystemreferanse.strekning.adskilteLop IN (\"Med\", \"Nei\") OR vegsystemreferanse.strekning.adskilteLop IS NULL)\n",
    "\n",
    "  AND typeVeg IN (\n",
    "    \"Rundkjøring\",\n",
    "    \"Enkel bilveg\",\n",
    "    \"Kanalisert veg\",\n",
    "    \"Rampe\");\n",
    "\"\"\"\n",
    "\n",
    "print(query)\n",
    "\n",
    "client.query(query).to_dataframe()"
   ]
  },
  {
   "cell_type": "markdown",
   "metadata": {},
   "source": [
    "Denne spørringen viser hvordan vegeier og vegens navn kan utledes fra de andre feltene."
   ]
  },
  {
   "cell_type": "code",
   "execution_count": null,
   "metadata": {},
   "outputs": [],
   "source": [
    "query = f\"\"\"\n",
    "SELECT\n",
    "  FORMAT(\"%s%s%d\", \n",
    "    vegsystemreferanse.vegsystem.vegkategori, \n",
    "    vegsystemreferanse.vegsystem.fase, \n",
    "    vegsystemreferanse.vegsystem.nummer) vegnavn,\n",
    "  IF(\n",
    "    EXISTS(SELECT * FROM UNNEST(kontraktsomraader) WHERE REGEXP_CONTAINS(navn, \"NV_\")),\n",
    "    \"Stat, Nye Veier\", \n",
    "    \"Stat, Statens vegvesen\") vegeier,\n",
    "FROM \n",
    "  `{project}.standardized.veglenker`\n",
    "WHERE\n",
    "  # Trøndelag\n",
    "  fylke = 50\n",
    "\n",
    "  # Nåværende vegnett\n",
    "  AND (metadata.sluttdato IS NULL OR metadata.sluttdato >= CURRENT_DATE())\n",
    "\n",
    "  # Hovedtrase\n",
    "  AND type = \"HOVED\"\n",
    "\n",
    "  # Europaveg og Riksveg\n",
    "  AND vegsystemreferanse.vegsystem.vegkategori in (\"E\", \"R\")\n",
    "\n",
    "  # Eksisterende veg som er del av det operative vegnettet\n",
    "  AND vegsystemreferanse.vegsystem.fase in (\"V\")\n",
    "\n",
    "  # Behold bare ett løp for adskilte tunelløp\n",
    "  AND (vegsystemreferanse.strekning.adskilteLop IN (\"Med\", \"Nei\") OR vegsystemreferanse.strekning.adskilteLop IS NULL)\n",
    "\n",
    "  AND typeVeg IN (\n",
    "    \"Rundkjøring\",\n",
    "    \"Enkel bilveg\",\n",
    "    \"Kanalisert veg\",\n",
    "    \"Rampe\");\n",
    "\"\"\"\n",
    "\n",
    "print(query)\n",
    "\n",
    "client.query(query).to_dataframe()\n"
   ]
  },
  {
   "cell_type": "markdown",
   "metadata": {},
   "source": [
    "Denne spørringen viser hvordan man kan avdekke veglenker som har blitt opprettet, avsluttet eller opprettet og deretter avsluttet i perioden 2020-01-01 til 2021-01-01."
   ]
  },
  {
   "cell_type": "code",
   "execution_count": null,
   "metadata": {},
   "outputs": [],
   "source": [
    "query = f\"\"\"\n",
    "SELECT \n",
    "  vegsystemreferanse.kortform,\n",
    "  geometri,\n",
    "  CASE\n",
    "    WHEN\n",
    "      maaledata.startdato >= '2020-01-01' AND maaledato.startdato < '2021-01-01'\n",
    "      THEN \"Opprettet i perioden\"\n",
    "    WHEN\n",
    "      maaledata.sluttdato >= '2020-01-01' AND maaledata.sluttdato < '2021-01-01' \n",
    "      THEN \"Avsluttet i perioden\"\n",
    "    ELSE\n",
    "      \"Aktiv i perioden\"\n",
    "  END statusIPerioden\n",
    "\n",
    "FROM \n",
    "  `{project}.standardized.veglenker`\n",
    "WHERE\n",
    "  # Veglenker som var aktive i løpet av perioden\n",
    "  (\n",
    "      # Opprettet før slutten av den aktuelle perioden\n",
    "      metadata.startdato < '2021-01-01'\n",
    "\n",
    "      # Avsluttet en gang etter starten av perioden eller er fortsatt aktiv\n",
    "      AND (metadata.sluttdato >= '2020-01-01' OR metadata.sluttdato IS NULL)\n",
    "\n",
    "      # Ikke en periode som overlapper hele intervallet\n",
    "      AND NOT (metadata.startdato < '2020-01-01' AND metadata.sluttdato >= '2021-01-01')\n",
    "  ) \n",
    "\n",
    "  # Hovedtrase\n",
    "  AND type = \"HOVED\"\n",
    "\n",
    "  # Europaveg og Riksveg\n",
    "  AND vegsystemreferanse.vegsystem.vegkategori in (\"E\", \"R\")\n",
    "\n",
    "  # Eksisterende veg som er del av det operative vegnettet\n",
    "  AND vegsystemreferanse.vegsystem.fase in (\"V\")\n",
    "\n",
    "  # Behold bare ett løp for adskilte tunelløp\n",
    "  AND (vegsystemreferanse.strekning.adskilteLop IN (\"Med\", \"Nei\") OR vegsystemreferanse.strekning.adskilteLop IS NULL)\n",
    "\n",
    "  AND typeVeg IN (\n",
    "    \"Rundkjøring\",\n",
    "    \"Enkel bilveg\",\n",
    "    \"Kanalisert veg\",\n",
    "    \"Rampe\")\n",
    "\n",
    "ORDER BY statusIPerioden;\n",
    "\"\"\"\n",
    "\n",
    "print(query)\n",
    "\n",
    "client.query(query).to_dataframe()"
   ]
  }
 ],
 "metadata": {
  "colab": {
   "name": "bigquery:nvdb.standardized.veglenker.ipynb",
   "provenance": []
  },
  "interpreter": {
   "hash": "9a1ab7dd7a22ee2fdc59d95014d50eeb0611fa3ec969f116cc29f98d3982c9bf"
  },
  "kernelspec": {
   "display_name": "Python 3.10.2 64-bit ('3.10.2': pyenv)",
   "language": "python",
   "name": "python3"
  },
  "language_info": {
   "codemirror_mode": {
    "name": "ipython",
    "version": 3
   },
   "file_extension": ".py",
   "mimetype": "text/x-python",
   "name": "python",
   "nbconvert_exporter": "python",
   "pygments_lexer": "ipython3",
   "version": "3.10.2"
  }
 },
 "nbformat": 4,
 "nbformat_minor": 0
}
