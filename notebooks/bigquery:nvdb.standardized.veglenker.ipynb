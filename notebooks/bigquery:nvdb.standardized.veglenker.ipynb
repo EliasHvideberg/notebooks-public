{
 "cells": [
  {
   "cell_type": "code",
   "execution_count": null,
   "metadata": {},
   "outputs": [],
   "source": [
    "project = 'saga-nvdb-prod-vlmh'\n",
    "use_colab_auth = True\n",
    "\n",
    "# Legg inn ditt eget prosjekt her, f.eks. 'saga-olanor-playground-ab12'\n",
    "bq_job_project = ''"
   ],
   "outputs": [],
   "metadata": {
    "tags": [
     "parameters"
    ]
   },
   "execution_count": null,
   "cell_type": "code"
  },
  {
   "cell_type": "code",
   "execution_count": null,
   "metadata": {},
   "outputs": [],
   "source": [
    "if (use_colab_auth):\n",
    "  from google.colab import auth\n",
    "  auth.authenticate_user()\n",
    "  print('Authenticated')"
   ]
  },
  {
   "cell_type": "code",
   "execution_count": null,
   "metadata": {},
   "outputs": [],
   "source": [
    "import warnings\n",
    "from google.cloud import bigquery\n",
    "\n",
    "warnings.filterwarnings('ignore')\n",
    "client = bigquery.Client(project=bq_job_project)"
   ]
  },
  {
   "cell_type": "markdown",
   "metadata": {},
   "source": [
    "Denne spørringen henter ut lengden på det nåværende vegnettet for riks- og europaveg i Norge."
   ]
  },
  {
   "cell_type": "code",
   "execution_count": null,
   "metadata": {},
   "outputs": [],
   "source": [
    "query = f\"\"\"\n",
    "SELECT \n",
    "  SUM(ST_LENGTH(geometri))/1000 vegnettKm\n",
    "FROM \n",
    "  `{project}.standardized.veglenker`\n",
    "WHERE\n",
    "  # Nåværende vegnett\n",
    "  (metadata.sluttdato IS NULL OR metadata.sluttdato >= CURRENT_DATE())\n",
    "\n",
    "  # Hovedtrase\n",
    "  AND type = \"HOVED\"\n",
    "\n",
    "  # Europaveg og Riksveg\n",
    "  AND vegsystemreferanse.vegsystem.vegkategori in (\"E\", \"R\")\n",
    "\n",
    "  # Eksisterende veg som er del av det operative vegnettet\n",
    "  AND vegsystemreferanse.vegsystem.fase in (\"V\")\n",
    "\n",
    "  # Behold bare ett løp for adskilte tunelløp\n",
    "  AND (vegsystemreferanse.strekning.adskilteLop IN (\"Med\", \"Nei\") OR vegsystemreferanse.strekning.adskilteLop IS NULL)\n",
    "\n",
    "  AND typeVeg IN (\n",
    "    \"Rundkjøring\",\n",
    "    \"Enkel bilveg\",\n",
    "    \"Kanalisert veg\",\n",
    "    \"Rampe\");\n",
    "\"\"\"\n",
    "\n",
    "print(query)\n",
    "\n",
    "client.query(query).to_dataframe()"
   ]
  },
  {
   "cell_type": "markdown",
   "metadata": {},
   "source": [
    "Denne spørringen henter ut det nåværende vegnettet for riks- og europaveg i Trøndelag fylke."
   ]
  },
  {
   "cell_type": "code",
   "execution_count": null,
   "metadata": {},
   "outputs": [],
   "source": [
    "query = f\"\"\"\n",
    "SELECT \n",
    "  vegsystemreferanse.kortform, geometri\n",
    "FROM \n",
    "  `{project}.standardized.veglenker`\n",
    "WHERE\n",
    "  # Trøndelag\n",
    "  fylke = 50\n",
    "\n",
    "  # Nåværende vegnett\n",
    "  AND (metadata.sluttdato IS NULL OR metadata.sluttdato >= CURRENT_DATE())\n",
    "\n",
    "  # Hovedtrase\n",
    "  AND type = \"HOVED\"\n",
    "\n",
    "  # Europaveg og Riksveg\n",
    "  AND vegsystemreferanse.vegsystem.vegkategori in (\"E\", \"R\")\n",
    "\n",
    "  # Eksisterende veg som er del av det operative vegnettet\n",
    "  AND vegsystemreferanse.vegsystem.fase in (\"V\")\n",
    "\n",
    "  # Behold bare ett løp for adskilte tunelløp\n",
    "  AND (vegsystemreferanse.strekning.adskilteLop IN (\"Med\", \"Nei\") OR vegsystemreferanse.strekning.adskilteLop IS NULL)\n",
    "\n",
    "  AND typeVeg IN (\n",
    "    \"Rundkjøring\",\n",
    "    \"Enkel bilveg\",\n",
    "    \"Kanalisert veg\",\n",
    "    \"Rampe\");\n",
    "\"\"\"\n",
    "\n",
    "print(query)\n",
    "\n",
    "client.query(query).to_dataframe()"
   ]
  },
  {
   "execution_count": null,
   "metadata": {},
   "outputs": [],
   "source": [
    "Denne spørringen viser hvordan vegeier og vegens navn kan utledes fra de andre feltene."
   ],
   "metadata": {},
   "cell_type": "markdown"
  },
  {
   "cell_type": "code",
   "execution_count": null,
   "metadata": {},
   "outputs": [],
   "source": [
    "query = f\"\"\"\n",
    "SELECT\n",
    "  FORMAT(\"%s%s%d\", \n",
    "    vegsystemreferanse.vegsystem.vegkategori, \n",
    "    vegsystemreferanse.vegsystem.fase, \n",
    "    vegsystemreferanse.vegsystem.nummer) vegnavn,\n",
    "  IF(\n",
    "    EXISTS(SELECT * FROM UNNEST(kontraktsomraader) WHERE REGEXP_CONTAINS(navn, \"NV_\")),\n",
    "    \"Stat, Nye Veier\", \n",
    "    \"Stat, Statens vegvesen\") vegeier,\n",
    "FROM \n",
    "  `{project}.standardized.veglenker`\n",
    "WHERE\n",
    "  # Trøndelag\n",
    "  fylke = 50\n",
    "\n",
    "  # Nåværende vegnett\n",
    "  AND (metadata.sluttdato IS NULL OR metadata.sluttdato >= CURRENT_DATE())\n",
    "\n",
    "  # Hovedtrase\n",
    "  AND type = \"HOVED\"\n",
    "\n",
    "  # Europaveg og Riksveg\n",
    "  AND vegsystemreferanse.vegsystem.vegkategori in (\"E\", \"R\")\n",
    "\n",
    "  # Eksisterende veg som er del av det operative vegnettet\n",
    "  AND vegsystemreferanse.vegsystem.fase in (\"V\")\n",
    "\n",
    "  # Behold bare ett løp for adskilte tunelløp\n",
    "  AND (vegsystemreferanse.strekning.adskilteLop IN (\"Med\", \"Nei\") OR vegsystemreferanse.strekning.adskilteLop IS NULL)\n",
    "\n",
    "  AND typeVeg IN (\n",
    "    \"Rundkjøring\",\n",
    "    \"Enkel bilveg\",\n",
    "    \"Kanalisert veg\",\n",
    "    \"Rampe\");\n",
    "\"\"\"\n",
    "\n",
    "print(query)\n",
    "\n",
    "client.query(query).to_dataframe()\n"
   ]
  }
 ],
 "metadata": {
  "colab": {
   "name": "bigquery:nvdb.standardized.veglenker.ipynb",
   "provenance": []
  },
  "interpreter": {
   "hash": "9a1ab7dd7a22ee2fdc59d95014d50eeb0611fa3ec969f116cc29f98d3982c9bf"
  },
  "kernelspec": {
   "display_name": "Python 3.10.2 64-bit ('3.10.2': pyenv)",
   "language": "python",
   "name": "python3"
  },
  "language_info": {
   "codemirror_mode": {
    "name": "ipython",
    "version": 3
   },
   "file_extension": ".py",
   "mimetype": "text/x-python",
   "name": "python",
   "nbconvert_exporter": "python",
   "pygments_lexer": "ipython3",
   "version": "3.10.2"
  }
 },
 "nbformat": 4,
 "nbformat_minor": 0
}
