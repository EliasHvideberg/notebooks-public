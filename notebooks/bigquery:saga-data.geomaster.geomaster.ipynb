{
  "cells": [
    {
      "cell_type": "code",
      "execution_count": null,
      "metadata": {
        "id": "voCpdStZ22kr",
        "tags": [
          "parameters"
        ]
      },
      "outputs": [],
      "source": [
        "project = 'saga-data'\n",
        "use_colab_auth = True\n",
        "\n",
        "# Legg inn ditt eget prosjekt her, f.eks. 'saga-olanor-playground-ab12'\n",
        "bq_job_project = ''"
      ]
    },
    {
      "cell_type": "code",
      "execution_count": null,
      "metadata": {
        "colab": {
          "base_uri": "https://localhost:8080/"
        },
        "id": "Q1bUEOFb22ks",
        "outputId": "cd790481-5832-4ba9-e29f-22480363796f"
      },
      "outputs": [],
      "source": [
        "if (use_colab_auth):\n",
        "  from google.colab import auth\n",
        "  auth.authenticate_user()\n",
        "  print('Authenticated')"
      ]
    },
    {
      "cell_type": "code",
      "execution_count": null,
      "metadata": {
        "id": "uVtC9xEB22ks"
      },
      "outputs": [],
      "source": [
        "import warnings\n",
        "from google.cloud import bigquery\n",
        "\n",
        "warnings.filterwarnings('ignore')\n",
        "client = bigquery.Client(project=bq_job_project)"
      ]
    },
    {
      "cell_type": "markdown",
      "metadata": {
        "id": "MB92oTVC22kt"
      },
      "source": [
        "## Eksempel 1\n",
        "Jeg har fått noen data med såkalt \"vegsystemreferanse kortform\", hvor i all verden er dette egentlig?"
      ]
    },
    {
      "cell_type": "code",
      "execution_count": null,
      "metadata": {
        "colab": {
          "base_uri": "https://localhost:8080/",
          "height": 653
        },
        "id": "5kX52miG22ku",
        "outputId": "31c9b47f-c141-4f24-cd0e-1999041c4a80"
      },
      "outputs": [],
      "source": [
        "query = f\"\"\"\n",
        "with eksempeldata as (\n",
        "  select \"0.01587524-0.2725013@971774\" as kortform, 42 as measurement\n",
        ")\n",
        "\n",
        ", eksempeldata_brutt_opp_steg1 as (\n",
        "  select\n",
        "  SPLIT(kortform, '@')[OFFSET(0)] as start_til_sluttposisjon\n",
        "  ,SPLIT(kortform, '@')[OFFSET(1)] as veglenkesekvensid\n",
        "  from eksempeldata\n",
        ")\n",
        "\n",
        ", eksempeldata_brutt_opp_steg2 as (\n",
        "  select \n",
        "  cast(veglenkesekvensid as int64) as veglenkesekvensid\n",
        "  , cast(SPLIT(start_til_sluttposisjon, '-')[OFFSET(0)] as float64) as startposisjon\n",
        "  , cast(SPLIT(start_til_sluttposisjon, '-')[OFFSET(1)] as float64) as sluttposisjon\n",
        "  from eksempeldata_brutt_opp_steg1\n",
        ")\n",
        "\n",
        ", geomaster as (\n",
        "  select * from saga-data.geomaster.geomaster\n",
        "  where run_yearmonth = \"202305\"\n",
        ")\n",
        "\n",
        "\n",
        "select vegkategori, vegnummer, kommunenavn, sum(lengde_til_neste_punkt) as antall_meter \n",
        "from eksempeldata_brutt_opp_steg2 as a inner join geomaster as b\n",
        "on a.veglenkesekvensid = b.veglenkesekvensid\n",
        "and b.punkt_approx_relative_pos between a.startposisjon and a.sluttposisjon\n",
        "group by 1,2,3\n",
        "order by 1,2,3\n",
        "\"\"\"\n",
        "\n",
        "print(query)\n",
        "\n",
        "client.query(query).to_dataframe()"
      ]
    },
    {
      "cell_type": "markdown",
      "metadata": {
        "id": "jLvrkKbF22ku"
      },
      "source": [
        "Svar: Denne er på E6 i Halden, og er ca 1.8km lang."
      ]
    },
    {
      "cell_type": "markdown",
      "metadata": {
        "id": "f_XC_7Cz22ku"
      },
      "source": [
        "## Eksempel 2\n",
        "Jeg har to datasett som kun er geografiske objekter men ikke noe mer info. Hvordan kan jeg koble de sammen der de overlapper?"
      ]
    },
    {
      "cell_type": "code",
      "execution_count": null,
      "metadata": {
        "colab": {
          "base_uri": "https://localhost:8080/",
          "height": 1000
        },
        "id": "vlkdEdlY22kv",
        "outputId": "ddc6cd7c-2ec6-4c97-f760-19abe86fb5b3"
      },
      "outputs": [],
      "source": [
        "query = f\"\"\"\n",
        "with eksempeldata1 as (\n",
        "select \n",
        "172 as id\n",
        ", ST_GeogFromText('LINESTRING(10.227466 59.723153, 10.22756 59.723072, 10.22765 59.722985, 10.227688 59.722949, 10.227723 59.722912, 10.227759 59.722874, 10.227794 59.722838, 10.227828 59.7228, 10.227862 59.722763, 10.227896 59.722725, 10.227928 59.722688, 10.22796 59.722649, 10.22799 59.722612)') as geography\n",
        ", 42 as measurement_one\n",
        ")\n",
        "\n",
        ", eksempeldata2 as (\n",
        "select \n",
        "172 as id\n",
        ", ST_GeogFromText('LINESTRING(10.227688 59.722949, 10.227723 59.722912, 10.227759 59.722874, 10.227794 59.722838)') as geography\n",
        ", 78 as measurement_two\n",
        ")\n",
        "\n",
        ", geomaster as (\n",
        "  select * from saga-data.geomaster.geomaster\n",
        "  where run_yearmonth = \"202305\"\n",
        ")\n",
        "\n",
        "select\n",
        "a.*, b.measurement_one, c.measurement_two\n",
        "from \n",
        "geomaster as a\n",
        "left join eksempeldata1 as b\n",
        "on st_intersects(st_buffer(b.geography,10), a.punkt_latlon)\n",
        "left join eksempeldata2 as c\n",
        "on st_intersects(st_buffer(c.geography,10), a.punkt_latlon)\n",
        "where measurement_one is not null or measurement_two is not null\n",
        "order by veglenke_referanse, punktrekkefolge asc\n",
        "\"\"\"\n",
        "\n",
        "print(query)\n",
        "\n",
        "client.query(query).to_dataframe()"
      ]
    },
    {
      "cell_type": "markdown",
      "metadata": {
        "id": "XimpD_JW22kv"
      },
      "source": [
        "Vi ser de overlapper omtrent i midten, og får ut masse nyttig info om punktene de treffer."
      ]
    },
    {
      "cell_type": "markdown",
      "metadata": {
        "id": "uL6xuU3G22kv"
      },
      "source": [
        "## Eksempel 3\n",
        "Jeg vil ha geografiske linestrings for europavei, ca mellom Trondheim og Oppdal."
      ]
    },
    {
      "cell_type": "code",
      "execution_count": null,
      "metadata": {
        "colab": {
          "base_uri": "https://localhost:8080/",
          "height": 1000
        },
        "id": "QZ49vYOa22kw",
        "outputId": "7bf34826-db3d-4468-b241-d590a0b70e89"
      },
      "outputs": [],
      "source": [
        "query = f\"\"\"\n",
        "with geomaster as (\n",
        "  select * from saga-data.geomaster.geomaster\n",
        "  where vegkategori = \"E\"\n",
        "  and vegnummer = 6\n",
        "  and veglenketype = \"normal_strekning\"\n",
        "  and run_yearmonth = \"202305\"\n",
        "   )\n",
        "\n",
        "select \n",
        "veglenkesekvensid\n",
        ", veglenke_referanse\n",
        ", st_makeline(array_agg(punkt_latlon)) as linestrings\n",
        "from\n",
        "(\n",
        "select veglenkesekvensid\n",
        ", veglenke_referanse\n",
        ", punktrekkefolge\n",
        ", punkt_latlon\n",
        "from geomaster\n",
        "where grader_nord > (select avg(grader_nord) from geomaster where kommunenavn = \"Oppdal\")\n",
        "and grader_nord < (select avg(grader_nord) from geomaster where kommunenavn = \"Trondheim\")\n",
        "order by 1,2,3 asc\n",
        ")\n",
        "group by 1,2\n",
        "LIMIT 20 -- fjern denne for å hente alle\n",
        "\"\"\"\n",
        "\n",
        "print(query)\n",
        "\n",
        "client.query(query).to_dataframe()\n"
      ]
    },
    {
      "cell_type": "markdown",
      "metadata": {
        "id": "_Z7_LboX22kw"
      },
      "source": [
        "Se på linestringene i GeoViz for å se om de virker OK."
      ]
    },
    {
      "cell_type": "markdown",
      "metadata": {
        "id": "Rc-s3PYG22kw"
      },
      "source": [
        "## Eksempel 4\n",
        "Hvilken kommune har størst andel sideanlegg over omtrentlig totallengde riksvei?"
      ]
    },
    {
      "cell_type": "code",
      "execution_count": null,
      "metadata": {
        "colab": {
          "base_uri": "https://localhost:8080/",
          "height": 614
        },
        "id": "gQS5BgSe22kw",
        "outputId": "62e7ecae-b412-408d-f9f9-6fec4b325c90"
      },
      "outputs": [],
      "source": [
        "query = f\"\"\"\n",
        "select \n",
        "kommunenavn,\n",
        "sum(case when veglenketype = \"sideanlegg\" then lengde_til_neste_punkt else 0 end)/\n",
        "sum(case when veglenketype is not null then lengde_til_neste_punkt else 0 end) as andel_sideanlegg\n",
        "from saga-data.geomaster.geomaster\n",
        "where vegkategori = \"R\"\n",
        "and run_yearmonth = \"202305\"\n",
        "group by kommunenavn\n",
        "order by andel_sideanlegg desc\n",
        "\"\"\"\n",
        "\n",
        "print(query)\n",
        "\n",
        "client.query(query).to_dataframe()"
      ]
    },
    {
      "cell_type": "markdown",
      "metadata": {
        "id": "npkF8FFX22kx"
      },
      "source": [
        "Vi får sortert ut den kommunen med størst relativ andell sideanlegg øverst."
      ]
    },
    {
      "cell_type": "markdown",
      "metadata": {
        "id": "ImcctEx722kx"
      },
      "source": [
        "## Eksempel 5\n",
        "Sjekk andelen trafikklenker på Europavei fra Nordland og nordover som har en rasteplass eller dognhvilkeplass et sted på lenken."
      ]
    },
    {
      "cell_type": "code",
      "execution_count": null,
      "metadata": {
        "colab": {
          "base_uri": "https://localhost:8080/",
          "height": 896
        },
        "id": "W78_YPkc22kx",
        "outputId": "6093065d-1085-4326-f4b2-a8747b9726e9"
      },
      "outputs": [],
      "source": [
        "query = f\"\"\"\n",
        "with rasteplass as (\n",
        "select 1 as rasteplass, lokasjon.kommuner, ls.veglenkesekvensid, ls.startposisjon, ls.sluttposisjon from `saga-nvdb-prod-vlmh.standardized.vegobjekter_rasteplass`\n",
        "cross join unnest(lokasjon.stedfestinger) as ls\n",
        "where metadata.sluttdato is null\n",
        ")\n",
        "\n",
        ", dognhvileplass as (\n",
        "select 1 as dognhvileplass, lokasjon.kommuner, ls.veglenkesekvensid, ls.startposisjon, ls.sluttposisjon from `saga-nvdb-prod-vlmh.standardized.vegobjekter_dognhvileplass`\n",
        "cross join unnest(lokasjon.stedfestinger) as ls\n",
        "where metadata.sluttdato is null\n",
        ")\n",
        "\n",
        ", geomaster as (\n",
        "  select * from saga-data.geomaster.geomaster \n",
        "  where vegkategori = \"E\"\n",
        "  and run_yearmonth = \"202305\"\n",
        "  and grader_nord > (select min(grader_nord) from saga-data.geomaster.geomaster where fylkesnavn = \"Nordland\")\n",
        ")\n",
        "\n",
        ", joined as (\n",
        "select a.*, coalesce(b.rasteplass,0) as rasteplass, coalesce(c.dognhvileplass,0) as dognhvileplass \n",
        "\n",
        "from geomaster  as a\n",
        "\n",
        "left join rasteplass as b \n",
        "on a.veglenkesekvensid = b.veglenkesekvensid and a.punkt_approx_relative_pos between b.startposisjon and b.sluttposisjon\n",
        "\n",
        "left join dognhvileplass as c\n",
        "on a.veglenkesekvensid = c.veglenkesekvensid and a.punkt_approx_relative_pos between c.startposisjon and c.sluttposisjon\n",
        ")\n",
        "\n",
        ", har_eller_har_ikke as (\n",
        "select trafikklenkeid\n",
        ", max(case when (rasteplass + dognhvileplass) > 0 then 1 else 0 end) as raste_eller_dognhvileplass\n",
        "from joined\n",
        "group by 1\n",
        ")\n",
        "\n",
        "select avg(b.raste_eller_dognhvileplass) \n",
        "from \n",
        "joined as a \n",
        "inner join \n",
        "har_eller_har_ikke as b\n",
        "on  \n",
        "a.trafikklenkeid = b.trafikklenkeid\n",
        "\"\"\"\n",
        "\n",
        "print(query)\n",
        "\n",
        "client.query(query).to_dataframe()"
      ]
    },
    {
      "cell_type": "markdown",
      "metadata": {
        "id": "EhcXy2Jd4Hzp"
      },
      "source": [
        "Vi ser hvilken andel trafikklenker som er tilknyttet raste eller døgnhvileplass"
      ]
    },
    {
      "cell_type": "markdown",
      "metadata": {
        "id": "2f2eLxlo4NGf"
      },
      "source": [
        "## Eksempel 6\n",
        "Hvilken kommune og veitype hadde flest registrert asfaltarbeider i 2022?\n",
        "\n",
        "**NB:** vil dobbeltelle i de tilfellene der samme asfaltarbeid traff flere kommuner."
      ]
    },
    {
      "cell_type": "code",
      "execution_count": null,
      "metadata": {
        "colab": {
          "base_uri": "https://localhost:8080/",
          "height": 1000
        },
        "id": "q5FPtvHr4PP8",
        "outputId": "f314cace-b006-4933-f511-85564ffb04a1"
      },
      "outputs": [],
      "source": [
        "query = f\"\"\"\n",
        "with geomaster as (\n",
        "\n",
        "  select * from `saga-data.geomaster.geomaster`\n",
        "  where vegkategori in (\"E\",\"R\")\n",
        "  and run_yearmonth = \"202305\"\n",
        ")\n",
        "\n",
        "\n",
        ",paved_road as (\n",
        "\n",
        "select id, 1 as paved_flag\n",
        ", ls.veglenkesekvensid\n",
        ", ls.startposisjon\n",
        ", ls.sluttposisjon\n",
        "from `saga-nvdb-prod-vlmh.standardized.vegobjekter_vegdekke`, unnest(lokasjon.stedfestinger) ls\n",
        "where extract(year from egenskaper.dekkeleggingsdato) = 2022\n",
        "and metadata.sluttdato is null\n",
        "\n",
        ")\n",
        "\n",
        "\n",
        ", joined as (\n",
        "  \n",
        "select a.*, b.paved_flag\n",
        "from\n",
        "(select * from geomaster) as a\n",
        "left join \n",
        "(select * from paved_road) as b\n",
        "on a.veglenkesekvensid = b.veglenkesekvensid\n",
        "and a.punkt_approx_relative_pos between b.startposisjon and b.sluttposisjon\n",
        ")\n",
        "\n",
        "\n",
        "select kommunenavn, vegkategori, count(paved_flag) as antall_asfalteringer\n",
        "from joined\n",
        "group by 1,2\n",
        "order by 3 desc\n",
        "\"\"\"\n",
        "\n",
        "print(query)\n",
        "\n",
        "client.query(query).to_dataframe()"
      ]
    },
    {
      "cell_type": "markdown",
      "metadata": {
        "id": "Wm6P5f2_4VFJ"
      },
      "source": [
        "Vi ser antall asfalteringer sortert på høyest øverst."
      ]
    },
    {
      "cell_type": "markdown",
      "metadata": {
        "id": "yv6boyR04WeP"
      },
      "source": [
        "## Eksempel 7\n",
        "Jeg har fått en måling med vegsystemreferanse med bokstaver og meter, kan jeg få et datasett om denne strekningen?\n",
        "\n",
        "**NB:** dette eksempelet er helt validert til å være helt likt hvordan vegsystemreferansene ser ut, men ta det som eksempel."
      ]
    },
    {
      "cell_type": "code",
      "execution_count": null,
      "metadata": {
        "colab": {
          "base_uri": "https://localhost:8080/",
          "height": 1000
        },
        "id": "LWUhq6FF4X_B",
        "outputId": "2e847a5b-f77c-444b-bf7c-c0bab272c7e0"
      },
      "outputs": [],
      "source": [
        "query = f\"\"\"\n",
        "with eksempeldata as (\n",
        "  select \"EV18 S56D1 m7000-8000\" as vegsystemreferanse, 42 as measurement\n",
        ")\n",
        "\n",
        ", eksempeldata_brutt_opp_steg1 as (\n",
        "  select\n",
        "  SPLIT(vegsystemreferanse, ' m')[OFFSET(0)] as vegsystem_ref_delvis\n",
        "  ,SPLIT(vegsystemreferanse, ' m')[OFFSET(1)] as vegsystem_ref_meter_urenset\n",
        "  , measurement\n",
        "  from eksempeldata\n",
        ")\n",
        "\n",
        ", eksempeldata_brutt_opp_steg2 as (\n",
        "  select\n",
        "  vegsystem_ref_delvis\n",
        "  , cast(SPLIT(vegsystem_ref_meter_urenset, '-')[OFFSET(0)]  as float64) as vegsystem_meter_fra\n",
        "  , cast(SPLIT(vegsystem_ref_meter_urenset, '-')[OFFSET(1)] as float64) vegsystem_meter_til\n",
        "  , measurement\n",
        "  from eksempeldata_brutt_opp_steg1\n",
        ")\n",
        "\n",
        "\n",
        ", geomaster as (\n",
        "  select * except(vegsystem_ref_delvis)\n",
        "  ,  SPLIT(vegsystem_ref_delvis, ' m')[OFFSET(0)] as vegsystem_ref_delvis --dette er en liten bug som skal fikses\n",
        "  from saga-data.geomaster.geomaster\n",
        "  where run_yearmonth = \"202305\"\n",
        ")\n",
        "\n",
        "\n",
        "select b.*, a.measurement\n",
        "from eksempeldata_brutt_opp_steg2 as a inner join geomaster as b\n",
        "on a.vegsystem_ref_delvis = b.vegsystem_ref_delvis\n",
        "and b.vegsystem_ref_meter between a.vegsystem_meter_fra and a.vegsystem_meter_til\n",
        "\"\"\"\n",
        "\n",
        "print(query)\n",
        "\n",
        "client.query(query).to_dataframe()"
      ]
    },
    {
      "cell_type": "markdown",
      "metadata": {
        "id": "BNNBvzx95tOL"
      },
      "source": [
        "Vipps, et datasett med mye mer info.\n",
        "\n"
      ]
    }
  ],
  "metadata": {
    "colab": {
      "provenance": []
    },
    "interpreter": {
      "hash": "9a1ab7dd7a22ee2fdc59d95014d50eeb0611fa3ec969f116cc29f98d3982c9bf"
    },
    "kernelspec": {
      "display_name": "Python 3.10.2 64-bit ('3.10.2': pyenv)",
      "language": "python",
      "name": "python3"
    },
    "language_info": {
      "codemirror_mode": {
        "name": "ipython",
        "version": 3
      },
      "file_extension": ".py",
      "mimetype": "text/x-python",
      "name": "python",
      "nbconvert_exporter": "python",
      "pygments_lexer": "ipython3",
      "version": "3.10.2"
    }
  },
  "nbformat": 4,
  "nbformat_minor": 0
}
